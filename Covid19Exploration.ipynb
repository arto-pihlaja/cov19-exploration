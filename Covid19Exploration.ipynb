{
 "cells": [
  {
   "cell_type": "code",
   "execution_count": 1,
   "id": "photographic-mississippi",
   "metadata": {},
   "outputs": [],
   "source": [
    "import os\n",
    "import pandas as pd\n",
    "import matplotlib.pyplot as plt\n",
    "import numpy as np\n",
    "from datetime import datetime\n",
    "from datetime import timedelta"
   ]
  },
  {
   "cell_type": "markdown",
   "id": "warming-perfume",
   "metadata": {},
   "source": [
    "## Covid-19 in Europe\n",
    "**This is not science, but a small programming exercise**<br>\n",
    "Making inferences from a very limited set of data points, ignoring lots of other factors.\n",
    "<p>Using data from EU https://www.ecdc.europa.eu/en/covid-19/data\n",
    "In particular, reported cases per 14-day period and country, and government measures. <br>\n",
    "<p>Metadata:<br>\n",
    "https://www.ecdc.europa.eu/sites/default/files/documents/2021-01-13_Variable_Dictionary_and_Disclaimer_national_weekly_data.pdf <br>\n",
    "https://www.ecdc.europa.eu/sites/default/files/documents/Variable_Dictionary_and_Disclaimer_non-pharmacautical_measures_v3.pdf <br>"
   ]
  },
  {
   "cell_type": "code",
   "execution_count": 2,
   "id": "christian-white",
   "metadata": {},
   "outputs": [],
   "source": [
    "# Refresh data from source if necessary\n",
    "datadir = \"../data\"\n",
    "def get_csv_from_url(url, fname):\n",
    "    df = pd.read_csv(url)\n",
    "    df.shape\n",
    "    df.to_csv(fname)\n",
    "\n",
    "try:\n",
    "    os.mkdir(datadir)\n",
    "except FileExistsError:\n",
    "    pass\n",
    "\n",
    "get_csv_from_url(\"https://opendata.ecdc.europa.eu/covid19/nationalcasedeath/csv\", \\\n",
    "                (datadir + \"/eu-14d-notification-data.csv\"))\n",
    "get_csv_from_url(\"https://www.ecdc.europa.eu/sites/default/files/documents/response_graphs_data_2021-03-25.csv\", \\\n",
    "                (datadir + \"/eu-response-data.csv\"))"
   ]
  },
  {
   "cell_type": "code",
   "execution_count": 3,
   "id": "swiss-moldova",
   "metadata": {},
   "outputs": [
    {
     "name": "stdout",
     "output_type": "stream",
     "text": [
      "(1557, 5)\n"
     ]
    },
    {
     "data": {
      "text/html": [
       "<div>\n",
       "<style scoped>\n",
       "    .dataframe tbody tr th:only-of-type {\n",
       "        vertical-align: middle;\n",
       "    }\n",
       "\n",
       "    .dataframe tbody tr th {\n",
       "        vertical-align: top;\n",
       "    }\n",
       "\n",
       "    .dataframe thead th {\n",
       "        text-align: right;\n",
       "    }\n",
       "</style>\n",
       "<table border=\"1\" class=\"dataframe\">\n",
       "  <thead>\n",
       "    <tr style=\"text-align: right;\">\n",
       "      <th></th>\n",
       "      <th>Unnamed: 0</th>\n",
       "      <th>Country</th>\n",
       "      <th>Response_measure</th>\n",
       "      <th>date_start</th>\n",
       "      <th>date_end</th>\n",
       "    </tr>\n",
       "  </thead>\n",
       "  <tbody>\n",
       "    <tr>\n",
       "      <th>0</th>\n",
       "      <td>0</td>\n",
       "      <td>Austria</td>\n",
       "      <td>AdaptationOfWorkplace</td>\n",
       "      <td>2020-03-16</td>\n",
       "      <td>2020-04-13</td>\n",
       "    </tr>\n",
       "    <tr>\n",
       "      <th>1</th>\n",
       "      <td>1</td>\n",
       "      <td>Austria</td>\n",
       "      <td>BanOnAllEvents</td>\n",
       "      <td>2020-11-03</td>\n",
       "      <td>NaT</td>\n",
       "    </tr>\n",
       "  </tbody>\n",
       "</table>\n",
       "</div>"
      ],
      "text/plain": [
       "   Unnamed: 0  Country       Response_measure date_start   date_end\n",
       "0           0  Austria  AdaptationOfWorkplace 2020-03-16 2020-04-13\n",
       "1           1  Austria         BanOnAllEvents 2020-11-03        NaT"
      ]
     },
     "execution_count": 3,
     "metadata": {},
     "output_type": "execute_result"
    }
   ],
   "source": [
    "measuredf = pd.read_csv(datadir + \"/eu-response-data.csv\", parse_dates=[\"date_start\", \"date_end\"])\n",
    "print(f\"{measuredf.shape}\")\n",
    "measuredf.head(2)"
   ]
  },
  {
   "cell_type": "code",
   "execution_count": 4,
   "id": "seventh-horror",
   "metadata": {
    "tags": []
   },
   "outputs": [
    {
     "name": "stdout",
     "output_type": "stream",
     "text": [
      "NaT in date_start:\t 0\n",
      "NaT in date_end:\t 440\n"
     ]
    }
   ],
   "source": [
    "print(\"NaT in date_start:\\t\", np.isnat(measuredf.date_start).sum())\n",
    "print(\"NaT in date_end:\\t\", np.isnat(measuredf.date_end).sum())"
   ]
  },
  {
   "cell_type": "markdown",
   "id": "previous-offense",
   "metadata": {},
   "source": [
    "*date_end* = NaT means the measure is still on. Replace those values with tomorrow's date for further processing."
   ]
  },
  {
   "cell_type": "code",
   "execution_count": 5,
   "id": "everyday-reach",
   "metadata": {},
   "outputs": [],
   "source": [
    "measuredf.date_end.replace(to_replace=pd.NaT,value=(datetime.today()+ timedelta(days=1)).date(), inplace=True)"
   ]
  },
  {
   "cell_type": "code",
   "execution_count": 6,
   "id": "proud-display",
   "metadata": {},
   "outputs": [
    {
     "data": {
      "text/plain": [
       "array(['Austria', 'Belgium', 'Bulgaria', 'Croatia', 'Cyprus', 'Czechia',\n",
       "       'Denmark', 'Estonia', 'Finland', 'France', 'Germany', 'Greece',\n",
       "       'Hungary', 'Iceland', 'Ireland', 'Italy', 'Latvia',\n",
       "       'Liechtenstein', 'Lithuania', 'Luxembourg', 'Malta', 'Netherlands',\n",
       "       'Norway', 'Poland', 'Portugal', 'Romania', 'Slovakia', 'Slovenia',\n",
       "       'Spain', 'Sweden', 'Switzerland', 'United Kingdom'], dtype=object)"
      ]
     },
     "execution_count": 6,
     "metadata": {},
     "output_type": "execute_result"
    }
   ],
   "source": [
    "eu_countries = measuredf.Country.unique()\n",
    "eu_countries"
   ]
  },
  {
   "cell_type": "code",
   "execution_count": 7,
   "id": "opposed-binary",
   "metadata": {},
   "outputs": [
    {
     "data": {
      "text/plain": [
       "(25492, 11)"
      ]
     },
     "execution_count": 7,
     "metadata": {},
     "output_type": "execute_result"
    }
   ],
   "source": [
    "notifdf = pd.read_csv(datadir + '/eu-14d-notification-data.csv')\n",
    "notifdf.shape"
   ]
  },
  {
   "cell_type": "code",
   "execution_count": 8,
   "id": "regulation-canada",
   "metadata": {},
   "outputs": [],
   "source": [
    "#eu_notif = notifdf[notifdf.country.str.contains('|'.join(eu_countries)).any(level=0)]\n",
    "eu_notif = notifdf[notifdf.country.isin(eu_countries)]\n",
    "del notifdf"
   ]
  },
  {
   "cell_type": "code",
   "execution_count": 9,
   "id": "sought-softball",
   "metadata": {},
   "outputs": [
    {
     "data": {
      "text/plain": [
       "(4040, 11)"
      ]
     },
     "execution_count": 9,
     "metadata": {},
     "output_type": "execute_result"
    }
   ],
   "source": [
    "eu_notif.shape"
   ]
  },
  {
   "cell_type": "code",
   "execution_count": 10,
   "id": "catholic-passport",
   "metadata": {
    "tags": []
   },
   "outputs": [
    {
     "data": {
      "text/plain": [
       "(2020, 10)"
      ]
     },
     "execution_count": 10,
     "metadata": {},
     "output_type": "execute_result"
    }
   ],
   "source": [
    "# Focus on number of cases only\n",
    "eu_cases = eu_notif[eu_notif.indicator=='cases'].drop(['source'],axis=1)\n",
    "del eu_notif\n",
    "eu_cases.shape"
   ]
  },
  {
   "cell_type": "markdown",
   "id": "intended-subcommittee",
   "metadata": {},
   "source": [
    "For later processing, derive dates from the *year_week* values"
   ]
  },
  {
   "cell_type": "code",
   "execution_count": 11,
   "id": "iraqi-auditor",
   "metadata": {
    "tags": []
   },
   "outputs": [
    {
     "data": {
      "text/plain": [
       "(2020, 12)"
      ]
     },
     "execution_count": 11,
     "metadata": {},
     "output_type": "execute_result"
    }
   ],
   "source": [
    "import my_helpers\n",
    "\n",
    "#eu_cases['wk_start'] = pd.to_datetime((eu_cases.year_week + '-1'), format='%Y-%W-%w')\n",
    "eu_cases['wk_start'] = eu_cases.year_week.apply( lambda x: my_helpers.yearWeekToDateTime(x))\n",
    "eu_cases['month'] = eu_cases.wk_start.dt.month\n",
    "eu_cases.shape"
   ]
  },
  {
   "cell_type": "markdown",
   "id": "stretch-bridal",
   "metadata": {},
   "source": [
    "The *rate_14_day* is an interesting measure because it's relative to population size. Not directly comparable across countries, though.<br>\n",
    "https://www.ecdc.europa.eu/sites/default/files/documents/2021-01-13_Variable_Dictionary_and_Disclaimer_national_weekly_data.pdf"
   ]
  },
  {
   "cell_type": "code",
   "execution_count": 12,
   "id": "useful-bishop",
   "metadata": {},
   "outputs": [
    {
     "data": {
      "text/html": [
       "<div>\n",
       "<style scoped>\n",
       "    .dataframe tbody tr th:only-of-type {\n",
       "        vertical-align: middle;\n",
       "    }\n",
       "\n",
       "    .dataframe tbody tr th {\n",
       "        vertical-align: top;\n",
       "    }\n",
       "\n",
       "    .dataframe thead tr th {\n",
       "        text-align: left;\n",
       "    }\n",
       "\n",
       "    .dataframe thead tr:last-of-type th {\n",
       "        text-align: right;\n",
       "    }\n",
       "</style>\n",
       "<table border=\"1\" class=\"dataframe\">\n",
       "  <thead>\n",
       "    <tr>\n",
       "      <th></th>\n",
       "      <th>rate_14_day</th>\n",
       "    </tr>\n",
       "    <tr>\n",
       "      <th></th>\n",
       "      <th>mean</th>\n",
       "    </tr>\n",
       "    <tr>\n",
       "      <th>country</th>\n",
       "      <th></th>\n",
       "    </tr>\n",
       "  </thead>\n",
       "  <tbody>\n",
       "    <tr>\n",
       "      <th>Estonia</th>\n",
       "      <td>1364.057741</td>\n",
       "    </tr>\n",
       "    <tr>\n",
       "      <th>Hungary</th>\n",
       "      <td>1196.864618</td>\n",
       "    </tr>\n",
       "    <tr>\n",
       "      <th>Czechia</th>\n",
       "      <td>1069.315993</td>\n",
       "    </tr>\n",
       "    <tr>\n",
       "      <th>Poland</th>\n",
       "      <td>923.219680</td>\n",
       "    </tr>\n",
       "    <tr>\n",
       "      <th>Bulgaria</th>\n",
       "      <td>722.090628</td>\n",
       "    </tr>\n",
       "    <tr>\n",
       "      <th>France</th>\n",
       "      <td>703.989126</td>\n",
       "    </tr>\n",
       "    <tr>\n",
       "      <th>Sweden</th>\n",
       "      <td>686.946392</td>\n",
       "    </tr>\n",
       "    <tr>\n",
       "      <th>Slovenia</th>\n",
       "      <td>590.974306</td>\n",
       "    </tr>\n",
       "    <tr>\n",
       "      <th>Cyprus</th>\n",
       "      <td>560.807653</td>\n",
       "    </tr>\n",
       "    <tr>\n",
       "      <th>Netherlands</th>\n",
       "      <td>553.574778</td>\n",
       "    </tr>\n",
       "    <tr>\n",
       "      <th>Belgium</th>\n",
       "      <td>549.015660</td>\n",
       "    </tr>\n",
       "    <tr>\n",
       "      <th>Italy</th>\n",
       "      <td>517.953207</td>\n",
       "    </tr>\n",
       "    <tr>\n",
       "      <th>Austria</th>\n",
       "      <td>481.290776</td>\n",
       "    </tr>\n",
       "    <tr>\n",
       "      <th>Luxembourg</th>\n",
       "      <td>459.665106</td>\n",
       "    </tr>\n",
       "    <tr>\n",
       "      <th>Croatia</th>\n",
       "      <td>402.842171</td>\n",
       "    </tr>\n",
       "    <tr>\n",
       "      <th>Romania</th>\n",
       "      <td>402.310786</td>\n",
       "    </tr>\n",
       "    <tr>\n",
       "      <th>Latvia</th>\n",
       "      <td>380.515549</td>\n",
       "    </tr>\n",
       "    <tr>\n",
       "      <th>Malta</th>\n",
       "      <td>375.463499</td>\n",
       "    </tr>\n",
       "    <tr>\n",
       "      <th>Slovakia</th>\n",
       "      <td>369.283052</td>\n",
       "    </tr>\n",
       "    <tr>\n",
       "      <th>Lithuania</th>\n",
       "      <td>312.123088</td>\n",
       "    </tr>\n",
       "    <tr>\n",
       "      <th>Greece</th>\n",
       "      <td>306.794799</td>\n",
       "    </tr>\n",
       "    <tr>\n",
       "      <th>Switzerland</th>\n",
       "      <td>266.324798</td>\n",
       "    </tr>\n",
       "    <tr>\n",
       "      <th>Germany</th>\n",
       "      <td>248.205078</td>\n",
       "    </tr>\n",
       "    <tr>\n",
       "      <th>Norway</th>\n",
       "      <td>236.698848</td>\n",
       "    </tr>\n",
       "    <tr>\n",
       "      <th>Finland</th>\n",
       "      <td>164.534291</td>\n",
       "    </tr>\n",
       "    <tr>\n",
       "      <th>Spain</th>\n",
       "      <td>160.065109</td>\n",
       "    </tr>\n",
       "    <tr>\n",
       "      <th>Ireland</th>\n",
       "      <td>157.117419</td>\n",
       "    </tr>\n",
       "    <tr>\n",
       "      <th>Denmark</th>\n",
       "      <td>130.882882</td>\n",
       "    </tr>\n",
       "    <tr>\n",
       "      <th>Liechtenstein</th>\n",
       "      <td>126.461403</td>\n",
       "    </tr>\n",
       "    <tr>\n",
       "      <th>United Kingdom</th>\n",
       "      <td>109.615266</td>\n",
       "    </tr>\n",
       "    <tr>\n",
       "      <th>Portugal</th>\n",
       "      <td>60.247230</td>\n",
       "    </tr>\n",
       "    <tr>\n",
       "      <th>Iceland</th>\n",
       "      <td>27.462418</td>\n",
       "    </tr>\n",
       "  </tbody>\n",
       "</table>\n",
       "</div>"
      ],
      "text/plain": [
       "                rate_14_day\n",
       "                       mean\n",
       "country                    \n",
       "Estonia         1364.057741\n",
       "Hungary         1196.864618\n",
       "Czechia         1069.315993\n",
       "Poland           923.219680\n",
       "Bulgaria         722.090628\n",
       "France           703.989126\n",
       "Sweden           686.946392\n",
       "Slovenia         590.974306\n",
       "Cyprus           560.807653\n",
       "Netherlands      553.574778\n",
       "Belgium          549.015660\n",
       "Italy            517.953207\n",
       "Austria          481.290776\n",
       "Luxembourg       459.665106\n",
       "Croatia          402.842171\n",
       "Romania          402.310786\n",
       "Latvia           380.515549\n",
       "Malta            375.463499\n",
       "Slovakia         369.283052\n",
       "Lithuania        312.123088\n",
       "Greece           306.794799\n",
       "Switzerland      266.324798\n",
       "Germany          248.205078\n",
       "Norway           236.698848\n",
       "Finland          164.534291\n",
       "Spain            160.065109\n",
       "Ireland          157.117419\n",
       "Denmark          130.882882\n",
       "Liechtenstein    126.461403\n",
       "United Kingdom   109.615266\n",
       "Portugal          60.247230\n",
       "Iceland           27.462418"
      ]
     },
     "execution_count": 12,
     "metadata": {},
     "output_type": "execute_result"
    }
   ],
   "source": [
    "eu_cases[(eu_cases.year_week=='2021-12')]\\\n",
    ".groupby('country').agg({'rate_14_day':['mean']}).sort_values(by=[('rate_14_day', 'mean')],ascending=False)"
   ]
  },
  {
   "cell_type": "code",
   "execution_count": 13,
   "id": "broad-domain",
   "metadata": {},
   "outputs": [
    {
     "data": {
      "text/html": [
       "<div>\n",
       "<style scoped>\n",
       "    .dataframe tbody tr th:only-of-type {\n",
       "        vertical-align: middle;\n",
       "    }\n",
       "\n",
       "    .dataframe tbody tr th {\n",
       "        vertical-align: top;\n",
       "    }\n",
       "\n",
       "    .dataframe thead th {\n",
       "        text-align: right;\n",
       "    }\n",
       "</style>\n",
       "<table border=\"1\" class=\"dataframe\">\n",
       "  <thead>\n",
       "    <tr style=\"text-align: right;\">\n",
       "      <th></th>\n",
       "      <th>Unnamed: 0</th>\n",
       "      <th>country</th>\n",
       "      <th>country_code</th>\n",
       "      <th>continent</th>\n",
       "      <th>population</th>\n",
       "      <th>indicator</th>\n",
       "      <th>weekly_count</th>\n",
       "      <th>year_week</th>\n",
       "      <th>rate_14_day</th>\n",
       "      <th>cumulative_count</th>\n",
       "      <th>wk_start</th>\n",
       "      <th>month</th>\n",
       "    </tr>\n",
       "  </thead>\n",
       "  <tbody>\n",
       "    <tr>\n",
       "      <th>1700</th>\n",
       "      <td>1700</td>\n",
       "      <td>Austria</td>\n",
       "      <td>AUT</td>\n",
       "      <td>Europe</td>\n",
       "      <td>8901064</td>\n",
       "      <td>cases</td>\n",
       "      <td>0</td>\n",
       "      <td>2020-01</td>\n",
       "      <td>NaN</td>\n",
       "      <td>0</td>\n",
       "      <td>2019-12-30</td>\n",
       "      <td>12</td>\n",
       "    </tr>\n",
       "    <tr>\n",
       "      <th>1701</th>\n",
       "      <td>1701</td>\n",
       "      <td>Austria</td>\n",
       "      <td>AUT</td>\n",
       "      <td>Europe</td>\n",
       "      <td>8901064</td>\n",
       "      <td>cases</td>\n",
       "      <td>0</td>\n",
       "      <td>2020-02</td>\n",
       "      <td>0.0</td>\n",
       "      <td>0</td>\n",
       "      <td>2020-01-06</td>\n",
       "      <td>1</td>\n",
       "    </tr>\n",
       "    <tr>\n",
       "      <th>1702</th>\n",
       "      <td>1702</td>\n",
       "      <td>Austria</td>\n",
       "      <td>AUT</td>\n",
       "      <td>Europe</td>\n",
       "      <td>8901064</td>\n",
       "      <td>cases</td>\n",
       "      <td>0</td>\n",
       "      <td>2020-03</td>\n",
       "      <td>0.0</td>\n",
       "      <td>0</td>\n",
       "      <td>2020-01-13</td>\n",
       "      <td>1</td>\n",
       "    </tr>\n",
       "    <tr>\n",
       "      <th>1703</th>\n",
       "      <td>1703</td>\n",
       "      <td>Austria</td>\n",
       "      <td>AUT</td>\n",
       "      <td>Europe</td>\n",
       "      <td>8901064</td>\n",
       "      <td>cases</td>\n",
       "      <td>0</td>\n",
       "      <td>2020-04</td>\n",
       "      <td>0.0</td>\n",
       "      <td>0</td>\n",
       "      <td>2020-01-20</td>\n",
       "      <td>1</td>\n",
       "    </tr>\n",
       "    <tr>\n",
       "      <th>1704</th>\n",
       "      <td>1704</td>\n",
       "      <td>Austria</td>\n",
       "      <td>AUT</td>\n",
       "      <td>Europe</td>\n",
       "      <td>8901064</td>\n",
       "      <td>cases</td>\n",
       "      <td>0</td>\n",
       "      <td>2020-05</td>\n",
       "      <td>0.0</td>\n",
       "      <td>0</td>\n",
       "      <td>2020-01-27</td>\n",
       "      <td>1</td>\n",
       "    </tr>\n",
       "  </tbody>\n",
       "</table>\n",
       "</div>"
      ],
      "text/plain": [
       "      Unnamed: 0  country country_code continent  population indicator  \\\n",
       "1700        1700  Austria          AUT    Europe     8901064     cases   \n",
       "1701        1701  Austria          AUT    Europe     8901064     cases   \n",
       "1702        1702  Austria          AUT    Europe     8901064     cases   \n",
       "1703        1703  Austria          AUT    Europe     8901064     cases   \n",
       "1704        1704  Austria          AUT    Europe     8901064     cases   \n",
       "\n",
       "      weekly_count year_week  rate_14_day  cumulative_count   wk_start  month  \n",
       "1700             0   2020-01          NaN                 0 2019-12-30     12  \n",
       "1701             0   2020-02          0.0                 0 2020-01-06      1  \n",
       "1702             0   2020-03          0.0                 0 2020-01-13      1  \n",
       "1703             0   2020-04          0.0                 0 2020-01-20      1  \n",
       "1704             0   2020-05          0.0                 0 2020-01-27      1  "
      ]
     },
     "execution_count": 13,
     "metadata": {},
     "output_type": "execute_result"
    }
   ],
   "source": [
    "eu_cases.head()"
   ]
  },
  {
   "cell_type": "code",
   "execution_count": 14,
   "id": "swedish-breakdown",
   "metadata": {},
   "outputs": [
    {
     "data": {
      "text/plain": [
       "(66, 1)"
      ]
     },
     "execution_count": 14,
     "metadata": {},
     "output_type": "execute_result"
    }
   ],
   "source": [
    "country_comparison_df = pd.DataFrame()\n",
    "country_comparison_df[\"wk_start\"] = eu_cases.wk_start.unique()\n",
    "country_comparison_df.shape\n",
    "## Executing all in a for loop kills the kernel of my little vm...\n",
    "#for country in eu_countries:\n",
    "#    country_comparison_df = pd.merge(country_comparison_df, eu_cases[eu_cases.country==country].loc[:,[\"wk_start\",\"rate_14_day\"]], on=\"wk_start\")"
   ]
  },
  {
   "cell_type": "markdown",
   "id": "vietnamese-andrews",
   "metadata": {},
   "source": [
    "Picking a few countries - Finland and neighbouring countries, and some known to have high rates. "
   ]
  },
  {
   "cell_type": "code",
   "execution_count": 15,
   "id": "colored-soldier",
   "metadata": {},
   "outputs": [
    {
     "name": "stdout",
     "output_type": "stream",
     "text": [
      "(66, 9)\n"
     ]
    },
    {
     "data": {
      "text/html": [
       "<div>\n",
       "<style scoped>\n",
       "    .dataframe tbody tr th:only-of-type {\n",
       "        vertical-align: middle;\n",
       "    }\n",
       "\n",
       "    .dataframe tbody tr th {\n",
       "        vertical-align: top;\n",
       "    }\n",
       "\n",
       "    .dataframe thead th {\n",
       "        text-align: right;\n",
       "    }\n",
       "</style>\n",
       "<table border=\"1\" class=\"dataframe\">\n",
       "  <thead>\n",
       "    <tr style=\"text-align: right;\">\n",
       "      <th></th>\n",
       "      <th>wk_start</th>\n",
       "      <th>Belgium</th>\n",
       "      <th>Czechia</th>\n",
       "      <th>Denmark</th>\n",
       "      <th>Estonia</th>\n",
       "      <th>Finland</th>\n",
       "      <th>Norway</th>\n",
       "      <th>Sweden</th>\n",
       "      <th>United Kingdom</th>\n",
       "    </tr>\n",
       "  </thead>\n",
       "  <tbody>\n",
       "    <tr>\n",
       "      <th>0</th>\n",
       "      <td>2019-12-30</td>\n",
       "      <td>NaN</td>\n",
       "      <td>NaN</td>\n",
       "      <td>NaN</td>\n",
       "      <td>NaN</td>\n",
       "      <td>NaN</td>\n",
       "      <td>NaN</td>\n",
       "      <td>NaN</td>\n",
       "      <td>NaN</td>\n",
       "    </tr>\n",
       "    <tr>\n",
       "      <th>1</th>\n",
       "      <td>2020-01-06</td>\n",
       "      <td>0.0</td>\n",
       "      <td>0.0</td>\n",
       "      <td>0.0</td>\n",
       "      <td>0.0</td>\n",
       "      <td>0.0</td>\n",
       "      <td>0.0</td>\n",
       "      <td>0.0</td>\n",
       "      <td>0.0</td>\n",
       "    </tr>\n",
       "    <tr>\n",
       "      <th>2</th>\n",
       "      <td>2020-01-13</td>\n",
       "      <td>0.0</td>\n",
       "      <td>0.0</td>\n",
       "      <td>0.0</td>\n",
       "      <td>0.0</td>\n",
       "      <td>0.0</td>\n",
       "      <td>0.0</td>\n",
       "      <td>0.0</td>\n",
       "      <td>0.0</td>\n",
       "    </tr>\n",
       "  </tbody>\n",
       "</table>\n",
       "</div>"
      ],
      "text/plain": [
       "    wk_start  Belgium  Czechia  Denmark  Estonia  Finland  Norway  Sweden  \\\n",
       "0 2019-12-30      NaN      NaN      NaN      NaN      NaN     NaN     NaN   \n",
       "1 2020-01-06      0.0      0.0      0.0      0.0      0.0     0.0     0.0   \n",
       "2 2020-01-13      0.0      0.0      0.0      0.0      0.0     0.0     0.0   \n",
       "\n",
       "   United Kingdom  \n",
       "0             NaN  \n",
       "1             0.0  \n",
       "2             0.0  "
      ]
     },
     "execution_count": 15,
     "metadata": {},
     "output_type": "execute_result"
    }
   ],
   "source": [
    "country_comparison_df = pd.merge(country_comparison_df, eu_cases[eu_cases.country==\"Belgium\"].loc[:,[\"wk_start\",\"rate_14_day\"]], on=\"wk_start\")\n",
    "country_comparison_df = pd.merge(country_comparison_df, eu_cases[eu_cases.country==\"Czechia\"].loc[:,[\"wk_start\",\"rate_14_day\"]], on=\"wk_start\")\n",
    "country_comparison_df = pd.merge(country_comparison_df, eu_cases[eu_cases.country==\"Denmark\"].loc[:,[\"wk_start\",\"rate_14_day\"]], on=\"wk_start\")\n",
    "country_comparison_df = pd.merge(country_comparison_df, eu_cases[eu_cases.country==\"Estonia\"].loc[:,[\"wk_start\",\"rate_14_day\"]], on=\"wk_start\")\n",
    "country_comparison_df = pd.merge(country_comparison_df, eu_cases[eu_cases.country==\"Finland\"].loc[:,[\"wk_start\",\"rate_14_day\"]], on=\"wk_start\")\n",
    "country_comparison_df = pd.merge(country_comparison_df, eu_cases[eu_cases.country==\"Norway\"].loc[:,[\"wk_start\",\"rate_14_day\"]], on=\"wk_start\")\n",
    "country_comparison_df = pd.merge(country_comparison_df, eu_cases[eu_cases.country==\"Sweden\"].loc[:,[\"wk_start\",\"rate_14_day\"]], on=\"wk_start\")\n",
    "country_comparison_df = pd.merge(country_comparison_df, eu_cases[eu_cases.country==\"United Kingdom\"].loc[:,[\"wk_start\",\"rate_14_day\"]], on=\"wk_start\")\n",
    "country_comparison_df.columns=[\"wk_start\", \"Belgium\", \"Czechia\", \"Denmark\", \"Estonia\", \"Finland\", \"Norway\", \"Sweden\", \"United Kingdom\"]\n",
    "print(country_comparison_df.shape)\n",
    "country_comparison_df.head(3)"
   ]
  },
  {
   "cell_type": "code",
   "execution_count": 16,
   "id": "pacific-makeup",
   "metadata": {},
   "outputs": [
    {
     "data": {
      "text/plain": [
       "<AxesSubplot:>"
      ]
     },
     "execution_count": 16,
     "metadata": {},
     "output_type": "execute_result"
    },
    {
     "data": {
      "image/png": "[encoded data removed]",
      "text/plain": [
       "<Figure size 1008x576 with 1 Axes>"
      ]
     },
     "metadata": {
      "needs_background": "light"
     },
     "output_type": "display_data"
    }
   ],
   "source": [
    "country_comparison_df.plot(x=\"wk_start\", y=[\"Czechia\",\"Denmark\", \"Estonia\", \"Finland\", \"Norway\", \"Sweden\", \"United Kingdom\"], xlabel=\"\", figsize=(14,8))"
   ]
  },
  {
   "cell_type": "markdown",
   "id": "assumed-rebound",
   "metadata": {},
   "source": [
    "## Infection rates and impact of measures\n",
    "Some countries have dramatic peaks.\n",
    "What governmental measures could have an impact on the infection rates?\n",
    "Rather than looking at *rate_14_day* as such, we want to examine it's change from one period to another. Is the disease spreading faster or slower?"
   ]
  },
  {
   "cell_type": "code",
   "execution_count": 17,
   "id": "brown-deployment",
   "metadata": {},
   "outputs": [],
   "source": [
    "#https://www.dataindependent.com/pandas/pandas-diff/\n",
    "country_diff = country_comparison_df.set_index(\"wk_start\").diff(periods=1, axis=0)"
   ]
  },
  {
   "cell_type": "code",
   "execution_count": 18,
   "id": "stone-reward",
   "metadata": {},
   "outputs": [
    {
     "data": {
      "text/plain": [
       "<AxesSubplot:xlabel='wk_start', ylabel='Change in weekly cases'>"
      ]
     },
     "execution_count": 18,
     "metadata": {},
     "output_type": "execute_result"
    },
    {
     "data": {
      "image/png": "[encoded data removed]",
      "text/plain": [
       "<Figure size 864x288 with 1 Axes>"
      ]
     },
     "metadata": {
      "needs_background": "light"
     },
     "output_type": "display_data"
    }
   ],
   "source": [
    "country_diff.plot(y=[\"Denmark\", \"Estonia\", \"Finland\", \"Norway\", \"Sweden\"], ylabel=\"Change in weekly cases\", figsize=(12,4))"
   ]
  },
  {
   "cell_type": "markdown",
   "id": "sudden-integer",
   "metadata": {},
   "source": [
    "Denmark and Estonia had infection rates growing exponentially, then rapidly decreasing. The countries also took measures to stop the spread. Let's investigate."
   ]
  },
  {
   "cell_type": "code",
   "execution_count": 19,
   "id": "pacific-dover",
   "metadata": {},
   "outputs": [
    {
     "data": {
      "text/html": [
       "<div>\n",
       "<style scoped>\n",
       "    .dataframe tbody tr th:only-of-type {\n",
       "        vertical-align: middle;\n",
       "    }\n",
       "\n",
       "    .dataframe tbody tr th {\n",
       "        vertical-align: top;\n",
       "    }\n",
       "\n",
       "    .dataframe thead th {\n",
       "        text-align: right;\n",
       "    }\n",
       "</style>\n",
       "<table border=\"1\" class=\"dataframe\">\n",
       "  <thead>\n",
       "    <tr style=\"text-align: right;\">\n",
       "      <th></th>\n",
       "      <th>Unnamed: 0</th>\n",
       "      <th>Country</th>\n",
       "      <th>Response_measure</th>\n",
       "      <th>date_start</th>\n",
       "      <th>date_end</th>\n",
       "    </tr>\n",
       "  </thead>\n",
       "  <tbody>\n",
       "    <tr>\n",
       "      <th>338</th>\n",
       "      <td>338</td>\n",
       "      <td>Denmark</td>\n",
       "      <td>BanOnAllEvents</td>\n",
       "      <td>2020-10-26</td>\n",
       "      <td>2021-04-10</td>\n",
       "    </tr>\n",
       "    <tr>\n",
       "      <th>360</th>\n",
       "      <td>360</td>\n",
       "      <td>Denmark</td>\n",
       "      <td>MassGather50</td>\n",
       "      <td>2020-10-26</td>\n",
       "      <td>2021-04-10</td>\n",
       "    </tr>\n",
       "    <tr>\n",
       "      <th>371</th>\n",
       "      <td>371</td>\n",
       "      <td>Denmark</td>\n",
       "      <td>PrivateGatheringRestrictions</td>\n",
       "      <td>2020-10-26</td>\n",
       "      <td>2021-04-10</td>\n",
       "    </tr>\n",
       "    <tr>\n",
       "      <th>341</th>\n",
       "      <td>341</td>\n",
       "      <td>Denmark</td>\n",
       "      <td>ClosHigh</td>\n",
       "      <td>2020-12-16</td>\n",
       "      <td>2021-02-28 00:00:00</td>\n",
       "    </tr>\n",
       "    <tr>\n",
       "      <th>346</th>\n",
       "      <td>346</td>\n",
       "      <td>Denmark</td>\n",
       "      <td>ClosPubAny</td>\n",
       "      <td>2020-12-16</td>\n",
       "      <td>2021-04-10</td>\n",
       "    </tr>\n",
       "    <tr>\n",
       "      <th>350</th>\n",
       "      <td>350</td>\n",
       "      <td>Denmark</td>\n",
       "      <td>ClosSec</td>\n",
       "      <td>2020-12-16</td>\n",
       "      <td>2021-02-28 00:00:00</td>\n",
       "    </tr>\n",
       "    <tr>\n",
       "      <th>352</th>\n",
       "      <td>352</td>\n",
       "      <td>Denmark</td>\n",
       "      <td>EntertainmentVenues</td>\n",
       "      <td>2020-12-16</td>\n",
       "      <td>2021-04-10</td>\n",
       "    </tr>\n",
       "    <tr>\n",
       "      <th>354</th>\n",
       "      <td>354</td>\n",
       "      <td>Denmark</td>\n",
       "      <td>GymsSportsCentres</td>\n",
       "      <td>2020-12-16</td>\n",
       "      <td>2021-04-10</td>\n",
       "    </tr>\n",
       "    <tr>\n",
       "      <th>364</th>\n",
       "      <td>364</td>\n",
       "      <td>Denmark</td>\n",
       "      <td>NonEssentialShops</td>\n",
       "      <td>2020-12-16</td>\n",
       "      <td>2021-02-28 00:00:00</td>\n",
       "    </tr>\n",
       "    <tr>\n",
       "      <th>373</th>\n",
       "      <td>373</td>\n",
       "      <td>Denmark</td>\n",
       "      <td>RestaurantsCafes</td>\n",
       "      <td>2020-12-16</td>\n",
       "      <td>2021-04-10</td>\n",
       "    </tr>\n",
       "    <tr>\n",
       "      <th>378</th>\n",
       "      <td>378</td>\n",
       "      <td>Denmark</td>\n",
       "      <td>Teleworking</td>\n",
       "      <td>2020-12-16</td>\n",
       "      <td>2021-04-10</td>\n",
       "    </tr>\n",
       "    <tr>\n",
       "      <th>343</th>\n",
       "      <td>343</td>\n",
       "      <td>Denmark</td>\n",
       "      <td>ClosPrim</td>\n",
       "      <td>2020-12-21</td>\n",
       "      <td>2021-01-03 00:00:00</td>\n",
       "    </tr>\n",
       "    <tr>\n",
       "      <th>344</th>\n",
       "      <td>344</td>\n",
       "      <td>Denmark</td>\n",
       "      <td>ClosPrim</td>\n",
       "      <td>2021-01-05</td>\n",
       "      <td>2021-02-07 00:00:00</td>\n",
       "    </tr>\n",
       "    <tr>\n",
       "      <th>375</th>\n",
       "      <td>375</td>\n",
       "      <td>Denmark</td>\n",
       "      <td>SocialCircle</td>\n",
       "      <td>2021-01-06</td>\n",
       "      <td>2021-02-28 00:00:00</td>\n",
       "    </tr>\n",
       "    <tr>\n",
       "      <th>410</th>\n",
       "      <td>410</td>\n",
       "      <td>Estonia</td>\n",
       "      <td>MasksVoluntaryClosedSpacesPartial</td>\n",
       "      <td>2020-10-12</td>\n",
       "      <td>2020-11-23 00:00:00</td>\n",
       "    </tr>\n",
       "    <tr>\n",
       "      <th>399</th>\n",
       "      <td>399</td>\n",
       "      <td>Estonia</td>\n",
       "      <td>EntertainmentVenuesPartial</td>\n",
       "      <td>2020-11-16</td>\n",
       "      <td>2021-03-02 00:00:00</td>\n",
       "    </tr>\n",
       "    <tr>\n",
       "      <th>425</th>\n",
       "      <td>425</td>\n",
       "      <td>Estonia</td>\n",
       "      <td>PrivateGatheringRestrictions</td>\n",
       "      <td>2020-11-16</td>\n",
       "      <td>2021-01-10 00:00:00</td>\n",
       "    </tr>\n",
       "    <tr>\n",
       "      <th>429</th>\n",
       "      <td>429</td>\n",
       "      <td>Estonia</td>\n",
       "      <td>RestaurantsCafesPartial</td>\n",
       "      <td>2020-11-16</td>\n",
       "      <td>2021-03-02 00:00:00</td>\n",
       "    </tr>\n",
       "    <tr>\n",
       "      <th>407</th>\n",
       "      <td>407</td>\n",
       "      <td>Estonia</td>\n",
       "      <td>MasksMandatoryClosedSpaces</td>\n",
       "      <td>2020-11-24</td>\n",
       "      <td>2021-04-10</td>\n",
       "    </tr>\n",
       "    <tr>\n",
       "      <th>421</th>\n",
       "      <td>421</td>\n",
       "      <td>Estonia</td>\n",
       "      <td>OutdoorOver500</td>\n",
       "      <td>2020-11-24</td>\n",
       "      <td>2021-03-02 00:00:00</td>\n",
       "    </tr>\n",
       "    <tr>\n",
       "      <th>406</th>\n",
       "      <td>406</td>\n",
       "      <td>Estonia</td>\n",
       "      <td>IndoorOver500</td>\n",
       "      <td>2020-11-28</td>\n",
       "      <td>2021-03-02 00:00:00</td>\n",
       "    </tr>\n",
       "    <tr>\n",
       "      <th>385</th>\n",
       "      <td>385</td>\n",
       "      <td>Estonia</td>\n",
       "      <td>ClosHigh</td>\n",
       "      <td>2020-12-14</td>\n",
       "      <td>2020-12-31 00:00:00</td>\n",
       "    </tr>\n",
       "    <tr>\n",
       "      <th>388</th>\n",
       "      <td>388</td>\n",
       "      <td>Estonia</td>\n",
       "      <td>ClosPrim</td>\n",
       "      <td>2020-12-14</td>\n",
       "      <td>2020-12-31 00:00:00</td>\n",
       "    </tr>\n",
       "    <tr>\n",
       "      <th>394</th>\n",
       "      <td>394</td>\n",
       "      <td>Estonia</td>\n",
       "      <td>ClosSec</td>\n",
       "      <td>2020-12-14</td>\n",
       "      <td>2021-01-10 00:00:00</td>\n",
       "    </tr>\n",
       "    <tr>\n",
       "      <th>423</th>\n",
       "      <td>423</td>\n",
       "      <td>Estonia</td>\n",
       "      <td>PlaceOfWorshipPartial</td>\n",
       "      <td>2020-12-24</td>\n",
       "      <td>2021-04-10</td>\n",
       "    </tr>\n",
       "    <tr>\n",
       "      <th>427</th>\n",
       "      <td>427</td>\n",
       "      <td>Estonia</td>\n",
       "      <td>PrivateGatheringRestrictionsPartial</td>\n",
       "      <td>2021-01-11</td>\n",
       "      <td>2021-01-31 00:00:00</td>\n",
       "    </tr>\n",
       "    <tr>\n",
       "      <th>426</th>\n",
       "      <td>426</td>\n",
       "      <td>Estonia</td>\n",
       "      <td>PrivateGatheringRestrictions</td>\n",
       "      <td>2021-02-01</td>\n",
       "      <td>2021-04-10</td>\n",
       "    </tr>\n",
       "    <tr>\n",
       "      <th>386</th>\n",
       "      <td>386</td>\n",
       "      <td>Estonia</td>\n",
       "      <td>ClosHigh</td>\n",
       "      <td>2021-03-01</td>\n",
       "      <td>2021-04-10</td>\n",
       "    </tr>\n",
       "    <tr>\n",
       "      <th>395</th>\n",
       "      <td>395</td>\n",
       "      <td>Estonia</td>\n",
       "      <td>ClosSec</td>\n",
       "      <td>2021-03-01</td>\n",
       "      <td>2021-04-10</td>\n",
       "    </tr>\n",
       "    <tr>\n",
       "      <th>382</th>\n",
       "      <td>382</td>\n",
       "      <td>Estonia</td>\n",
       "      <td>BanOnAllEventsPartial</td>\n",
       "      <td>2021-03-03</td>\n",
       "      <td>2021-04-10</td>\n",
       "    </tr>\n",
       "    <tr>\n",
       "      <th>397</th>\n",
       "      <td>397</td>\n",
       "      <td>Estonia</td>\n",
       "      <td>EntertainmentVenues</td>\n",
       "      <td>2021-03-03</td>\n",
       "      <td>2021-04-10</td>\n",
       "    </tr>\n",
       "    <tr>\n",
       "      <th>412</th>\n",
       "      <td>412</td>\n",
       "      <td>Estonia</td>\n",
       "      <td>MassGather50Partial</td>\n",
       "      <td>2021-03-03</td>\n",
       "      <td>2021-04-10</td>\n",
       "    </tr>\n",
       "    <tr>\n",
       "      <th>416</th>\n",
       "      <td>416</td>\n",
       "      <td>Estonia</td>\n",
       "      <td>MassGatherAllPartial</td>\n",
       "      <td>2021-03-03</td>\n",
       "      <td>2021-04-10</td>\n",
       "    </tr>\n",
       "    <tr>\n",
       "      <th>418</th>\n",
       "      <td>418</td>\n",
       "      <td>Estonia</td>\n",
       "      <td>NonEssentialShopsPartial</td>\n",
       "      <td>2021-03-06</td>\n",
       "      <td>2021-04-10</td>\n",
       "    </tr>\n",
       "    <tr>\n",
       "      <th>430</th>\n",
       "      <td>430</td>\n",
       "      <td>Estonia</td>\n",
       "      <td>RestaurantsCafesPartial</td>\n",
       "      <td>2021-03-06</td>\n",
       "      <td>2021-03-10 00:00:00</td>\n",
       "    </tr>\n",
       "    <tr>\n",
       "      <th>383</th>\n",
       "      <td>383</td>\n",
       "      <td>Estonia</td>\n",
       "      <td>ClosDaycarePartial</td>\n",
       "      <td>2021-03-11</td>\n",
       "      <td>2021-04-10</td>\n",
       "    </tr>\n",
       "    <tr>\n",
       "      <th>389</th>\n",
       "      <td>389</td>\n",
       "      <td>Estonia</td>\n",
       "      <td>ClosPrim</td>\n",
       "      <td>2021-03-11</td>\n",
       "      <td>2021-04-10</td>\n",
       "    </tr>\n",
       "    <tr>\n",
       "      <th>401</th>\n",
       "      <td>401</td>\n",
       "      <td>Estonia</td>\n",
       "      <td>GymsSportsCentres</td>\n",
       "      <td>2021-03-11</td>\n",
       "      <td>2021-04-10</td>\n",
       "    </tr>\n",
       "    <tr>\n",
       "      <th>428</th>\n",
       "      <td>428</td>\n",
       "      <td>Estonia</td>\n",
       "      <td>RestaurantsCafes</td>\n",
       "      <td>2021-03-11</td>\n",
       "      <td>2021-04-10</td>\n",
       "    </tr>\n",
       "  </tbody>\n",
       "</table>\n",
       "</div>"
      ],
      "text/plain": [
       "     Unnamed: 0  Country                     Response_measure date_start  \\\n",
       "338         338  Denmark                       BanOnAllEvents 2020-10-26   \n",
       "360         360  Denmark                         MassGather50 2020-10-26   \n",
       "371         371  Denmark         PrivateGatheringRestrictions 2020-10-26   \n",
       "341         341  Denmark                             ClosHigh 2020-12-16   \n",
       "346         346  Denmark                           ClosPubAny 2020-12-16   \n",
       "350         350  Denmark                              ClosSec 2020-12-16   \n",
       "352         352  Denmark                  EntertainmentVenues 2020-12-16   \n",
       "354         354  Denmark                    GymsSportsCentres 2020-12-16   \n",
       "364         364  Denmark                    NonEssentialShops 2020-12-16   \n",
       "373         373  Denmark                     RestaurantsCafes 2020-12-16   \n",
       "378         378  Denmark                          Teleworking 2020-12-16   \n",
       "343         343  Denmark                             ClosPrim 2020-12-21   \n",
       "344         344  Denmark                             ClosPrim 2021-01-05   \n",
       "375         375  Denmark                         SocialCircle 2021-01-06   \n",
       "410         410  Estonia    MasksVoluntaryClosedSpacesPartial 2020-10-12   \n",
       "399         399  Estonia           EntertainmentVenuesPartial 2020-11-16   \n",
       "425         425  Estonia         PrivateGatheringRestrictions 2020-11-16   \n",
       "429         429  Estonia              RestaurantsCafesPartial 2020-11-16   \n",
       "407         407  Estonia           MasksMandatoryClosedSpaces 2020-11-24   \n",
       "421         421  Estonia                       OutdoorOver500 2020-11-24   \n",
       "406         406  Estonia                        IndoorOver500 2020-11-28   \n",
       "385         385  Estonia                             ClosHigh 2020-12-14   \n",
       "388         388  Estonia                             ClosPrim 2020-12-14   \n",
       "394         394  Estonia                              ClosSec 2020-12-14   \n",
       "423         423  Estonia                PlaceOfWorshipPartial 2020-12-24   \n",
       "427         427  Estonia  PrivateGatheringRestrictionsPartial 2021-01-11   \n",
       "426         426  Estonia         PrivateGatheringRestrictions 2021-02-01   \n",
       "386         386  Estonia                             ClosHigh 2021-03-01   \n",
       "395         395  Estonia                              ClosSec 2021-03-01   \n",
       "382         382  Estonia                BanOnAllEventsPartial 2021-03-03   \n",
       "397         397  Estonia                  EntertainmentVenues 2021-03-03   \n",
       "412         412  Estonia                  MassGather50Partial 2021-03-03   \n",
       "416         416  Estonia                 MassGatherAllPartial 2021-03-03   \n",
       "418         418  Estonia             NonEssentialShopsPartial 2021-03-06   \n",
       "430         430  Estonia              RestaurantsCafesPartial 2021-03-06   \n",
       "383         383  Estonia                   ClosDaycarePartial 2021-03-11   \n",
       "389         389  Estonia                             ClosPrim 2021-03-11   \n",
       "401         401  Estonia                    GymsSportsCentres 2021-03-11   \n",
       "428         428  Estonia                     RestaurantsCafes 2021-03-11   \n",
       "\n",
       "                date_end  \n",
       "338           2021-04-10  \n",
       "360           2021-04-10  \n",
       "371           2021-04-10  \n",
       "341  2021-02-28 00:00:00  \n",
       "346           2021-04-10  \n",
       "350  2021-02-28 00:00:00  \n",
       "352           2021-04-10  \n",
       "354           2021-04-10  \n",
       "364  2021-02-28 00:00:00  \n",
       "373           2021-04-10  \n",
       "378           2021-04-10  \n",
       "343  2021-01-03 00:00:00  \n",
       "344  2021-02-07 00:00:00  \n",
       "375  2021-02-28 00:00:00  \n",
       "410  2020-11-23 00:00:00  \n",
       "399  2021-03-02 00:00:00  \n",
       "425  2021-01-10 00:00:00  \n",
       "429  2021-03-02 00:00:00  \n",
       "407           2021-04-10  \n",
       "421  2021-03-02 00:00:00  \n",
       "406  2021-03-02 00:00:00  \n",
       "385  2020-12-31 00:00:00  \n",
       "388  2020-12-31 00:00:00  \n",
       "394  2021-01-10 00:00:00  \n",
       "423           2021-04-10  \n",
       "427  2021-01-31 00:00:00  \n",
       "426           2021-04-10  \n",
       "386           2021-04-10  \n",
       "395           2021-04-10  \n",
       "382           2021-04-10  \n",
       "397           2021-04-10  \n",
       "412           2021-04-10  \n",
       "416           2021-04-10  \n",
       "418           2021-04-10  \n",
       "430  2021-03-10 00:00:00  \n",
       "383           2021-04-10  \n",
       "389           2021-04-10  \n",
       "401           2021-04-10  \n",
       "428           2021-04-10  "
      ]
     },
     "execution_count": 19,
     "metadata": {},
     "output_type": "execute_result"
    }
   ],
   "source": [
    "measuredf[((measuredf.Country==\"Denmark\") | (measuredf.Country==\"Estonia\") )& (measuredf.date_start>datetime(2020,10,1))].sort_values( \\\n",
    "                                                                                                        by=[\"Country\", \"date_start\"])"
   ]
  },
  {
   "cell_type": "markdown",
   "id": "false-isolation",
   "metadata": {},
   "source": [
    "Lot's of different measures. Try bundling.\n",
    "In Denmark, various measures beginning 26.10.2020 and 16.12.2020. Most of them are still on.\n",
    "In Estonia, lots of measures since beginning of March 2021. \n",
    "Let's simply regard the measures as Lockdown and plot the lockdown period against the changes in daily new cases.\n",
    "Based on the file metadata descriptions, the above measures are not \"lockdown\" because they are not strictly enforced like \"StayHomeOrder\".  "
   ]
  },
  {
   "cell_type": "code",
   "execution_count": 20,
   "id": "incredible-alloy",
   "metadata": {},
   "outputs": [
    {
     "data": {
      "image/png": "[encoded data removed]",
      "text/plain": [
       "<Figure size 864x288 with 1 Axes>"
      ]
     },
     "metadata": {
      "needs_background": "light"
     },
     "output_type": "display_data"
    }
   ],
   "source": [
    "# The combination of pandas plot and pyplot worked, then stopped working. Strange... Need to do all pyplot, then.\n",
    "#country_diff[datetime(2020,10,1):].plot(y=\"Denmark\", xlabel=\"\", ylabel=\"Change in weekly cases\", figsize=(12,4))\n",
    "fig = plt.figure(figsize=(12,4))\n",
    "ax = fig.add_subplot()\n",
    "end_date=country_diff.index.max()\n",
    "ax.plot(country_diff[datetime(2020,10,1):].index, country_diff[datetime(2020,10,1):].Denmark)\n",
    "ax.set_ylabel(\"Change in 14 d rate\")\n",
    "ax.plot([datetime(2020,10,26),end_date], [0,0], color='b', marker=\".\")\n",
    "ax.plot([datetime(2020,12,16),end_date], [20,20], color='r', marker=\".\")\n",
    "ax.legend([\"Rate\", \"Part lockdown\", \"Lockdown\"])\n",
    "ax.set_title(\"Denmark - change in 14 d infection rate vs lockdown measures\")\n",
    "plt.show()"
   ]
  },
  {
   "cell_type": "markdown",
   "id": "noted-aging",
   "metadata": {},
   "source": [
    "Looking at these observations alone, it would seem the new lockdown measures in mid-December 2020 did stop the exponential growth. <br>Looking closer, the growth was slowing down before the measures took place. \n",
    "The infection rate is a lagging indicator. It's a weekly rolling average(?) of previous 14 days, and there's also the incubation time, so even if the infections would go to zero on day 1 of the lockdown, it would only be visible at least a week later. <br>\n",
    "The intuition is that the lockdown should have an impact on the infection rate, but there are of course lots of other factors at play, too. For whatever reasons, exponential growth always comes to an end."
   ]
  },
  {
   "cell_type": "code",
   "execution_count": 88,
   "id": "casual-circle",
   "metadata": {},
   "outputs": [
    {
     "data": {
      "image/png": "[encoded data removed]",
      "text/plain": [
       "<Figure size 864x288 with 1 Axes>"
      ]
     },
     "metadata": {
      "needs_background": "light"
     },
     "output_type": "display_data"
    }
   ],
   "source": [
    "fig = plt.figure(figsize=(12,4))\n",
    "ax = fig.add_subplot()\n",
    "ax.plot(country_diff[datetime(2020,12,1):].index, country_diff[datetime(2020,12,1):].Estonia)\n",
    "ax.plot([datetime(2021,3,3),end_date], [0,0], color='r',  marker=\".\")\n",
    "ax.set_title(\"Estonia - change in 14 d infection rate vs lockdown measures\")\n",
    "plt.show()"
   ]
  },
  {
   "cell_type": "markdown",
   "id": "geological-turning",
   "metadata": {},
   "source": [
    "The pattern is similar to that in Denmark. Infection rate is slowing down before the lockdown.<br>\n",
    "Try to look at data that is updated more frequently. \n",
    "Metadata:<br>\n",
    "https://www.ecdc.europa.eu/sites/default/files/documents/Description-and-disclaimer_daily_reporting.pdf"
   ]
  },
  {
   "cell_type": "code",
   "execution_count": 84,
   "id": "attractive-presentation",
   "metadata": {},
   "outputs": [
    {
     "name": "stdout",
     "output_type": "stream",
     "text": [
      "(1139, 11)\n"
     ]
    }
   ],
   "source": [
    "def prepDailyRates():\n",
    "    #get daily cases\n",
    "    df = pd.read_csv(\"https://opendata.ecdc.europa.eu/covid19/nationalcasedeath_eueea_daily_ei/csv/data.csv\")    \n",
    "    df.loc[:,\"dateRep\"] = pd.to_datetime(df.loc[:,\"dateRep\"], format=\"%d/%m/%Y\")\n",
    "    # on day 1, countries report all cases before day 1\n",
    "    day1 = df.dateRep.min() + timedelta(days=1)\n",
    "    df = df.loc[df.dateRep>day1]\n",
    "    return df\n",
    "\n",
    "try:\n",
    "    print(df.shape)\n",
    "except NameError:\n",
    "        df = prepDailyRates()\n",
    "\n"
   ]
  },
  {
   "cell_type": "code",
   "execution_count": 83,
   "id": "intimate-robin",
   "metadata": {},
   "outputs": [
    {
     "data": {
      "text/plain": [
       "<AxesSubplot:>"
      ]
     },
     "execution_count": 83,
     "metadata": {},
     "output_type": "execute_result"
    },
    {
     "data": {
      "image/png": "[encoded data removed]",
      "text/plain": [
       "<Figure size 432x288 with 1 Axes>"
      ]
     },
     "metadata": {
      "needs_background": "light"
     },
     "output_type": "display_data"
    }
   ],
   "source": [
    "df.loc[(df.countriesAndTerritories==\"Estonia\")].plot(x=\"dateRep\", y=\"cases\", xlabel=\"\")"
   ]
  },
  {
   "cell_type": "markdown",
   "id": "breathing-roberts",
   "metadata": {},
   "source": [
    "This data doesn't help. It's only available from March 2021 on, and the weekly cycle interferes.<br>\n",
    "Try another dataset."
   ]
  },
  {
   "cell_type": "code",
   "execution_count": 101,
   "id": "excess-founder",
   "metadata": {},
   "outputs": [
    {
     "name": "stdout",
     "output_type": "stream",
     "text": [
      "(74642, 7)\n",
      "(72314, 7)\n"
     ]
    }
   ],
   "source": [
    "def loadDailyData():\n",
    "    get_csv_from_url(\"https://opendata.ecdc.europa.eu/covid19/subnationalcasedaily/csv\", \\\n",
    "                    (datadir + \"/eu-14d-daily-data.csv\"))\n",
    "    df = pd.read_csv(datadir + \"/eu-14d-daily-data.csv\")\n",
    "    print(df.shape)\n",
    "    df = df.dropna()\n",
    "    print(df.shape)\n",
    "    df.loc[:,\"date\"] = pd.to_datetime(df.loc[:,\"date\"], format=\"%Y-%m-%d\")\n",
    "    df = df.sort_values(by=[\"country\", \"region_name\", \"date\"])\n",
    "    return df\n",
    "\n",
    "df = loadDailyData()    "
   ]
  },
  {
   "cell_type": "code",
   "execution_count": 113,
   "id": "coordinated-morgan",
   "metadata": {},
   "outputs": [
    {
     "data": {
      "text/plain": [
       "array(['Bornholm', 'Byen København', 'Fyn', 'Københavns omegn',\n",
       "       'Nordjylland', 'Nordsjælland', 'Sydjylland',\n",
       "       'Vest- og Sydsjælland', 'Vestjylland', 'Østjylland', 'Østsjælland'],\n",
       "      dtype=object)"
      ]
     },
     "execution_count": 113,
     "metadata": {},
     "output_type": "execute_result"
    }
   ],
   "source": [
    "df.loc[df.country==\"Denmark\"].region_name.unique()"
   ]
  },
  {
   "cell_type": "code",
   "execution_count": 130,
   "id": "funky-startup",
   "metadata": {},
   "outputs": [
    {
     "data": {
      "image/png": "[encoded data removed]",
      "text/plain": [
       "<Figure size 432x288 with 1 Axes>"
      ]
     },
     "metadata": {
      "needs_background": "light"
     },
     "output_type": "display_data"
    },
    {
     "name": "stdout",
     "output_type": "stream",
     "text": [
      "Stricter measures started 2020-12-16\n",
      "In Copenhagen, the peak was on 2020-12-19 00:00:00\n",
      "In Copenhagen surrondings, the peak was on 2020-12-23 00:00:00\n"
     ]
    }
   ],
   "source": [
    "plotdf = df.pivot(index=\"date\", columns=\"region_name\", values=\"rate_14_day_per_100k\")\n",
    "plotdf.plot( y=[\"Byen København\"])\n",
    "plt.show()\n",
    "print(\"Stricter measures started 2020-12-16\")\n",
    "print(f'In Copenhagen, the peak was on { df.loc[df.loc[df.region_name==\"Byen København\"].rate_14_day_per_100k.idxmax()].date }')\n",
    "print(f'In Copenhagen surrondings, the peak was on { df.loc[df.loc[df.region_name==\"Københavns omegn\"].rate_14_day_per_100k.idxmax()].date }')"
   ]
  },
  {
   "cell_type": "markdown",
   "id": "appointed-disposition",
   "metadata": {},
   "source": [
    "Even accounting for the delay in reporting *(infections reported on 2020-12-20 may have been contracted around 2020-12-10)*, <br>\n",
    "the slowdown would hardly have been so drastic without lockdown measures."
   ]
  },
  {
   "cell_type": "markdown",
   "id": "pregnant-henry",
   "metadata": {},
   "source": [
    "# Conclusions\n",
    "None, really. <br>\n",
    "This is just eyeball analytics with few variables.\n",
    "# Next steps\n",
    "Proper hypothesis testing. Apply Interrupted Time Series? Closer categorisation of government measures and check for significance?<br>\n",
    "Maybe later..."
   ]
  },
  {
   "cell_type": "code",
   "execution_count": 131,
   "id": "absent-namibia",
   "metadata": {},
   "outputs": [],
   "source": [
    "del plotdf"
   ]
  },
  {
   "cell_type": "code",
   "execution_count": 132,
   "id": "complicated-sheet",
   "metadata": {},
   "outputs": [
    {
     "data": {
      "text/plain": [
       "(72314, 7)"
      ]
     },
     "execution_count": 132,
     "metadata": {},
     "output_type": "execute_result"
    }
   ],
   "source": [
    "df.groupby([\"date\", \"country\", \"\"])"
   ]
  },
  {
   "cell_type": "code",
   "execution_count": 8,
   "id": "macro-scotland",
   "metadata": {},
   "outputs": [
    {
     "data": {
      "text/plain": [
       "(108, 4)"
      ]
     },
     "execution_count": 8,
     "metadata": {},
     "output_type": "execute_result"
    }
   ],
   "source": [
    "import re\n",
    "stayhome = measuredf[measuredf.Response_measure.str.contains('stayhome', flags=re.IGNORECASE)]\n",
    "stayhome.shape"
   ]
  },
  {
   "cell_type": "code",
   "execution_count": 22,
   "id": "eleven-circuit",
   "metadata": {},
   "outputs": [
    {
     "data": {
      "text/html": [
       "<div>\n",
       "<style scoped>\n",
       "    .dataframe tbody tr th:only-of-type {\n",
       "        vertical-align: middle;\n",
       "    }\n",
       "\n",
       "    .dataframe tbody tr th {\n",
       "        vertical-align: top;\n",
       "    }\n",
       "\n",
       "    .dataframe thead th {\n",
       "        text-align: right;\n",
       "    }\n",
       "</style>\n",
       "<table border=\"1\" class=\"dataframe\">\n",
       "  <thead>\n",
       "    <tr style=\"text-align: right;\">\n",
       "      <th></th>\n",
       "      <th>Country</th>\n",
       "      <th>Response_measure</th>\n",
       "      <th>date_start</th>\n",
       "      <th>date_end</th>\n",
       "    </tr>\n",
       "  </thead>\n",
       "  <tbody>\n",
       "    <tr>\n",
       "      <th>59</th>\n",
       "      <td>Austria</td>\n",
       "      <td>StayHomeGen</td>\n",
       "      <td>2020-03-10</td>\n",
       "      <td>2020-03-15</td>\n",
       "    </tr>\n",
       "    <tr>\n",
       "      <th>60</th>\n",
       "      <td>Austria</td>\n",
       "      <td>StayHomeOrder</td>\n",
       "      <td>2020-03-16</td>\n",
       "      <td>2020-04-30</td>\n",
       "    </tr>\n",
       "    <tr>\n",
       "      <th>61</th>\n",
       "      <td>Austria</td>\n",
       "      <td>StayHomeOrder</td>\n",
       "      <td>2020-11-17</td>\n",
       "      <td>2021-02-07</td>\n",
       "    </tr>\n",
       "    <tr>\n",
       "      <th>62</th>\n",
       "      <td>Austria</td>\n",
       "      <td>StayHomeOrderPartial</td>\n",
       "      <td>2020-11-03</td>\n",
       "      <td>2020-11-16</td>\n",
       "    </tr>\n",
       "    <tr>\n",
       "      <th>63</th>\n",
       "      <td>Austria</td>\n",
       "      <td>StayHomeOrderPartial</td>\n",
       "      <td>2021-02-08</td>\n",
       "      <td>NaN</td>\n",
       "    </tr>\n",
       "    <tr>\n",
       "      <th>...</th>\n",
       "      <td>...</td>\n",
       "      <td>...</td>\n",
       "      <td>...</td>\n",
       "      <td>...</td>\n",
       "    </tr>\n",
       "    <tr>\n",
       "      <th>1551</th>\n",
       "      <td>United Kingdom</td>\n",
       "      <td>StayHomeOrder</td>\n",
       "      <td>2020-11-05</td>\n",
       "      <td>2020-12-01</td>\n",
       "    </tr>\n",
       "    <tr>\n",
       "      <th>1552</th>\n",
       "      <td>United Kingdom</td>\n",
       "      <td>StayHomeOrderPartial</td>\n",
       "      <td>2020-05-10</td>\n",
       "      <td>2020-07-04</td>\n",
       "    </tr>\n",
       "    <tr>\n",
       "      <th>1553</th>\n",
       "      <td>United Kingdom</td>\n",
       "      <td>StayHomeRiskG</td>\n",
       "      <td>2020-03-16</td>\n",
       "      <td>2020-07-05</td>\n",
       "    </tr>\n",
       "    <tr>\n",
       "      <th>1554</th>\n",
       "      <td>United Kingdom</td>\n",
       "      <td>StayHomeRiskG</td>\n",
       "      <td>2020-11-05</td>\n",
       "      <td>2020-12-01</td>\n",
       "    </tr>\n",
       "    <tr>\n",
       "      <th>1555</th>\n",
       "      <td>United Kingdom</td>\n",
       "      <td>StayHomeRiskGPartial</td>\n",
       "      <td>2020-07-06</td>\n",
       "      <td>2020-08-01</td>\n",
       "    </tr>\n",
       "  </tbody>\n",
       "</table>\n",
       "<p>108 rows × 4 columns</p>\n",
       "</div>"
      ],
      "text/plain": [
       "             Country      Response_measure  date_start    date_end\n",
       "59           Austria           StayHomeGen  2020-03-10  2020-03-15\n",
       "60           Austria         StayHomeOrder  2020-03-16  2020-04-30\n",
       "61           Austria         StayHomeOrder  2020-11-17  2021-02-07\n",
       "62           Austria  StayHomeOrderPartial  2020-11-03  2020-11-16\n",
       "63           Austria  StayHomeOrderPartial  2021-02-08         NaN\n",
       "...              ...                   ...         ...         ...\n",
       "1551  United Kingdom         StayHomeOrder  2020-11-05  2020-12-01\n",
       "1552  United Kingdom  StayHomeOrderPartial  2020-05-10  2020-07-04\n",
       "1553  United Kingdom         StayHomeRiskG  2020-03-16  2020-07-05\n",
       "1554  United Kingdom         StayHomeRiskG  2020-11-05  2020-12-01\n",
       "1555  United Kingdom  StayHomeRiskGPartial  2020-07-06  2020-08-01\n",
       "\n",
       "[108 rows x 4 columns]"
      ]
     },
     "execution_count": 22,
     "metadata": {},
     "output_type": "execute_result"
    }
   ],
   "source": [
    "stayhome"
   ]
  },
  {
   "cell_type": "code",
   "execution_count": 2,
   "id": "political-mailman",
   "metadata": {},
   "outputs": [
    {
     "data": {
      "text/plain": [
       "location                                object\n",
       "iso_code                                object\n",
       "date                                    object\n",
       "total_vaccinations                     float64\n",
       "people_vaccinated                      float64\n",
       "people_fully_vaccinated                float64\n",
       "daily_vaccinations_raw                 float64\n",
       "daily_vaccinations                     float64\n",
       "total_vaccinations_per_hundred         float64\n",
       "people_vaccinated_per_hundred          float64\n",
       "people_fully_vaccinated_per_hundred    float64\n",
       "daily_vaccinations_per_million         float64\n",
       "dtype: object"
      ]
     },
     "execution_count": 2,
     "metadata": {},
     "output_type": "execute_result"
    }
   ],
   "source": [
    "df = pd.read_csv(\"https://raw.githubusercontent.com/owid/covid-19-data/master/public/data/vaccinations/vaccinations.csv\")\n",
    "df.dtypes"
   ]
  },
  {
   "cell_type": "code",
   "execution_count": 3,
   "id": "dated-clause",
   "metadata": {},
   "outputs": [
    {
     "data": {
      "text/html": [
       "<div>\n",
       "<style scoped>\n",
       "    .dataframe tbody tr th:only-of-type {\n",
       "        vertical-align: middle;\n",
       "    }\n",
       "\n",
       "    .dataframe tbody tr th {\n",
       "        vertical-align: top;\n",
       "    }\n",
       "\n",
       "    .dataframe thead th {\n",
       "        text-align: right;\n",
       "    }\n",
       "</style>\n",
       "<table border=\"1\" class=\"dataframe\">\n",
       "  <thead>\n",
       "    <tr style=\"text-align: right;\">\n",
       "      <th></th>\n",
       "      <th>location</th>\n",
       "      <th>iso_code</th>\n",
       "      <th>date</th>\n",
       "      <th>total_vaccinations</th>\n",
       "      <th>people_vaccinated</th>\n",
       "      <th>people_fully_vaccinated</th>\n",
       "      <th>daily_vaccinations_raw</th>\n",
       "      <th>daily_vaccinations</th>\n",
       "      <th>total_vaccinations_per_hundred</th>\n",
       "      <th>people_vaccinated_per_hundred</th>\n",
       "      <th>people_fully_vaccinated_per_hundred</th>\n",
       "      <th>daily_vaccinations_per_million</th>\n",
       "    </tr>\n",
       "  </thead>\n",
       "  <tbody>\n",
       "    <tr>\n",
       "      <th>9624</th>\n",
       "      <td>United States</td>\n",
       "      <td>USA</td>\n",
       "      <td>2020-12-20</td>\n",
       "      <td>556208.0</td>\n",
       "      <td>556208.0</td>\n",
       "      <td>NaN</td>\n",
       "      <td>NaN</td>\n",
       "      <td>NaN</td>\n",
       "      <td>0.17</td>\n",
       "      <td>0.17</td>\n",
       "      <td>NaN</td>\n",
       "      <td>NaN</td>\n",
       "    </tr>\n",
       "    <tr>\n",
       "      <th>9625</th>\n",
       "      <td>United States</td>\n",
       "      <td>USA</td>\n",
       "      <td>2020-12-21</td>\n",
       "      <td>614117.0</td>\n",
       "      <td>614117.0</td>\n",
       "      <td>NaN</td>\n",
       "      <td>57909.0</td>\n",
       "      <td>57909.0</td>\n",
       "      <td>0.18</td>\n",
       "      <td>0.18</td>\n",
       "      <td>NaN</td>\n",
       "      <td>173.0</td>\n",
       "    </tr>\n",
       "    <tr>\n",
       "      <th>9626</th>\n",
       "      <td>United States</td>\n",
       "      <td>USA</td>\n",
       "      <td>2020-12-22</td>\n",
       "      <td>NaN</td>\n",
       "      <td>NaN</td>\n",
       "      <td>NaN</td>\n",
       "      <td>NaN</td>\n",
       "      <td>127432.0</td>\n",
       "      <td>NaN</td>\n",
       "      <td>NaN</td>\n",
       "      <td>NaN</td>\n",
       "      <td>381.0</td>\n",
       "    </tr>\n",
       "    <tr>\n",
       "      <th>9627</th>\n",
       "      <td>United States</td>\n",
       "      <td>USA</td>\n",
       "      <td>2020-12-23</td>\n",
       "      <td>1008025.0</td>\n",
       "      <td>1008025.0</td>\n",
       "      <td>NaN</td>\n",
       "      <td>NaN</td>\n",
       "      <td>150606.0</td>\n",
       "      <td>0.30</td>\n",
       "      <td>0.30</td>\n",
       "      <td>NaN</td>\n",
       "      <td>450.0</td>\n",
       "    </tr>\n",
       "    <tr>\n",
       "      <th>9628</th>\n",
       "      <td>United States</td>\n",
       "      <td>USA</td>\n",
       "      <td>2020-12-24</td>\n",
       "      <td>NaN</td>\n",
       "      <td>NaN</td>\n",
       "      <td>NaN</td>\n",
       "      <td>NaN</td>\n",
       "      <td>191001.0</td>\n",
       "      <td>NaN</td>\n",
       "      <td>NaN</td>\n",
       "      <td>NaN</td>\n",
       "      <td>571.0</td>\n",
       "    </tr>\n",
       "  </tbody>\n",
       "</table>\n",
       "</div>"
      ],
      "text/plain": [
       "           location iso_code        date  total_vaccinations  \\\n",
       "9624  United States      USA  2020-12-20            556208.0   \n",
       "9625  United States      USA  2020-12-21            614117.0   \n",
       "9626  United States      USA  2020-12-22                 NaN   \n",
       "9627  United States      USA  2020-12-23           1008025.0   \n",
       "9628  United States      USA  2020-12-24                 NaN   \n",
       "\n",
       "      people_vaccinated  people_fully_vaccinated  daily_vaccinations_raw  \\\n",
       "9624           556208.0                      NaN                     NaN   \n",
       "9625           614117.0                      NaN                 57909.0   \n",
       "9626                NaN                      NaN                     NaN   \n",
       "9627          1008025.0                      NaN                     NaN   \n",
       "9628                NaN                      NaN                     NaN   \n",
       "\n",
       "      daily_vaccinations  total_vaccinations_per_hundred  \\\n",
       "9624                 NaN                            0.17   \n",
       "9625             57909.0                            0.18   \n",
       "9626            127432.0                             NaN   \n",
       "9627            150606.0                            0.30   \n",
       "9628            191001.0                             NaN   \n",
       "\n",
       "      people_vaccinated_per_hundred  people_fully_vaccinated_per_hundred  \\\n",
       "9624                           0.17                                  NaN   \n",
       "9625                           0.18                                  NaN   \n",
       "9626                            NaN                                  NaN   \n",
       "9627                           0.30                                  NaN   \n",
       "9628                            NaN                                  NaN   \n",
       "\n",
       "      daily_vaccinations_per_million  \n",
       "9624                             NaN  \n",
       "9625                           173.0  \n",
       "9626                           381.0  \n",
       "9627                           450.0  \n",
       "9628                           571.0  "
      ]
     },
     "execution_count": 3,
     "metadata": {},
     "output_type": "execute_result"
    }
   ],
   "source": [
    "df[df.iso_code==\"USA\"].head()"
   ]
  },
  {
   "cell_type": "code",
   "execution_count": 4,
   "id": "comparable-biotechnology",
   "metadata": {},
   "outputs": [
    {
     "data": {
      "text/html": [
       "<div>\n",
       "<style scoped>\n",
       "    .dataframe tbody tr th:only-of-type {\n",
       "        vertical-align: middle;\n",
       "    }\n",
       "\n",
       "    .dataframe tbody tr th {\n",
       "        vertical-align: top;\n",
       "    }\n",
       "\n",
       "    .dataframe thead tr th {\n",
       "        text-align: left;\n",
       "    }\n",
       "\n",
       "    .dataframe thead tr:last-of-type th {\n",
       "        text-align: right;\n",
       "    }\n",
       "</style>\n",
       "<table border=\"1\" class=\"dataframe\">\n",
       "  <thead>\n",
       "    <tr>\n",
       "      <th></th>\n",
       "      <th colspan=\"2\" halign=\"left\">people_vaccinated_per_hundred</th>\n",
       "    </tr>\n",
       "    <tr>\n",
       "      <th></th>\n",
       "      <th>max</th>\n",
       "      <th>std</th>\n",
       "    </tr>\n",
       "    <tr>\n",
       "      <th>location</th>\n",
       "      <th></th>\n",
       "      <th></th>\n",
       "    </tr>\n",
       "  </thead>\n",
       "  <tbody>\n",
       "    <tr>\n",
       "      <th>Gibraltar</th>\n",
       "      <td>92.62</td>\n",
       "      <td>26.703740</td>\n",
       "    </tr>\n",
       "    <tr>\n",
       "      <th>Seychelles</th>\n",
       "      <td>64.76</td>\n",
       "      <td>18.908720</td>\n",
       "    </tr>\n",
       "    <tr>\n",
       "      <th>Falkland Islands</th>\n",
       "      <td>62.79</td>\n",
       "      <td>27.217316</td>\n",
       "    </tr>\n",
       "    <tr>\n",
       "      <th>Israel</th>\n",
       "      <td>60.59</td>\n",
       "      <td>19.176662</td>\n",
       "    </tr>\n",
       "    <tr>\n",
       "      <th>Saint Helena</th>\n",
       "      <td>51.18</td>\n",
       "      <td>34.945217</td>\n",
       "    </tr>\n",
       "    <tr>\n",
       "      <th>...</th>\n",
       "      <td>...</td>\n",
       "      <td>...</td>\n",
       "    </tr>\n",
       "    <tr>\n",
       "      <th>Venezuela</th>\n",
       "      <td>0.05</td>\n",
       "      <td>0.026300</td>\n",
       "    </tr>\n",
       "    <tr>\n",
       "      <th>Vietnam</th>\n",
       "      <td>0.05</td>\n",
       "      <td>0.018631</td>\n",
       "    </tr>\n",
       "    <tr>\n",
       "      <th>Pakistan</th>\n",
       "      <td>0.03</td>\n",
       "      <td>0.012910</td>\n",
       "    </tr>\n",
       "    <tr>\n",
       "      <th>Gabon</th>\n",
       "      <td>0.01</td>\n",
       "      <td>0.007071</td>\n",
       "    </tr>\n",
       "    <tr>\n",
       "      <th>Iran</th>\n",
       "      <td>0.01</td>\n",
       "      <td>0.005774</td>\n",
       "    </tr>\n",
       "  </tbody>\n",
       "</table>\n",
       "<p>154 rows × 2 columns</p>\n",
       "</div>"
      ],
      "text/plain": [
       "                 people_vaccinated_per_hundred           \n",
       "                                           max        std\n",
       "location                                                 \n",
       "Gibraltar                                92.62  26.703740\n",
       "Seychelles                               64.76  18.908720\n",
       "Falkland Islands                         62.79  27.217316\n",
       "Israel                                   60.59  19.176662\n",
       "Saint Helena                             51.18  34.945217\n",
       "...                                        ...        ...\n",
       "Venezuela                                 0.05   0.026300\n",
       "Vietnam                                   0.05   0.018631\n",
       "Pakistan                                  0.03   0.012910\n",
       "Gabon                                     0.01   0.007071\n",
       "Iran                                      0.01   0.005774\n",
       "\n",
       "[154 rows x 2 columns]"
      ]
     },
     "execution_count": 4,
     "metadata": {},
     "output_type": "execute_result"
    }
   ],
   "source": [
    "df.groupby([\"location\"]).agg({\"people_vaccinated_per_hundred\":[\"max\",\"std\"]}).dropna().sort_values(by=[('people_vaccinated_per_hundred', 'max')],ascending=False)"
   ]
  }
 ],
 "metadata": {
  "kernelspec": {
   "display_name": "Python 3",
   "language": "python",
   "name": "python3"
  },
  "language_info": {
   "codemirror_mode": {
    "name": "ipython",
    "version": 3
   },
   "file_extension": ".py",
   "mimetype": "text/x-python",
   "name": "python",
   "nbconvert_exporter": "python",
   "pygments_lexer": "ipython3",
   "version": "3.8.8"
  }
 },
 "nbformat": 4,
 "nbformat_minor": 5
}
