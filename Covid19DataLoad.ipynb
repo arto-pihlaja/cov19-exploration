{
 "cells": [
  {
   "cell_type": "code",
   "execution_count": 1,
   "id": "meaningful-organization",
   "metadata": {},
   "outputs": [
    {
     "data": {
      "text/plain": [
       "(25052, 10)"
      ]
     },
     "execution_count": 1,
     "metadata": {},
     "output_type": "execute_result"
    }
   ],
   "source": [
    "import pandas as pd\n",
    "\n",
    "def get_csv_from_url(url, fname):\n",
    "    df = pd.read_csv()\n",
    "    df.shape\n",
    "    df.to_csv(fname)\n",
    "    \n",
    "get_csv_from_url(\"https://opendata.ecdc.europa.eu/covid19/nationalcasedeath/csv\", \\\n",
    "                \"../data/eu-14d-notification-data.csv\")\n",
    "get_csv_from_url(\"https://www.ecdc.europa.eu/sites/default/files/documents/response_graphs_data_2021-03-25.csv\", \\\n",
    "                \"../data/eu-response-data.csv\")"
   ]
  }
 ],
 "metadata": {
  "kernelspec": {
   "display_name": "Python 3",
   "language": "python",
   "name": "python3"
  },
  "language_info": {
   "codemirror_mode": {
    "name": "ipython",
    "version": 3
   },
   "file_extension": ".py",
   "mimetype": "text/x-python",
   "name": "python",
   "nbconvert_exporter": "python",
   "pygments_lexer": "ipython3",
   "version": "3.8.8"
  }
 },
 "nbformat": 4,
 "nbformat_minor": 5
}
